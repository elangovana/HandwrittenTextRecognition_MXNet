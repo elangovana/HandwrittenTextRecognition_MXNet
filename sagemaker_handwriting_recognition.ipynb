{
 "cells": [
  {
   "cell_type": "code",
   "execution_count": 15,
   "metadata": {},
   "outputs": [
    {
     "name": "stdout",
     "output_type": "stream",
     "text": [
      "s3://aegovansagemaker/ocrhandwriting/output\n"
     ]
    }
   ],
   "source": [
    "from sagemaker import get_execution_role\n",
    "\n",
    "\n",
    "#IAM execution role that gives Amazon SageMaker access to resources in your AWS account.\n",
    "#We can use the Amazon SageMaker Python SDK to get the role from our notebook environment. \n",
    "role = get_execution_role()\n",
    "\n",
    "##Use th\n",
    "bucket=\"<<bucket>>\"\n",
    "prefix=\"ocrhandwriting\"\n",
    "\n",
    "s3_output=\"s3://{}/{}/output\".format(bucket,prefix)\n",
    "\n",
    "print(s3_output)"
   ]
  },
  {
   "cell_type": "code",
   "execution_count": 38,
   "metadata": {},
   "outputs": [],
   "source": [
    "from sagemaker.mxnet import MXNet\n",
    "\n",
    "mnist_estimator = MXNet(entry_point='sagemaker_entry.py',\n",
    "                        role=role,\n",
    "                        output_path=s3_output,\n",
    "                        source_dir=\".\",\n",
    "                        train_instance_count=1, \n",
    "                        train_instance_type='ml.p3.2xlarge',\n",
    "                        py_version=\"py3\",\n",
    "                        hyperparameters={'learning_rate': 0.1})"
   ]
  },
  {
   "cell_type": "code",
   "execution_count": 39,
   "metadata": {},
   "outputs": [
    {
     "name": "stderr",
     "output_type": "stream",
     "text": [
      "INFO:sagemaker:Creating training-job with name: sagemaker-mxnet-2018-10-09-10-50-59-963\n"
     ]
    },
    {
     "name": "stdout",
     "output_type": "stream",
     "text": [
      "..................\n",
      "\u001b[31m2018-10-09 10:58:03,307 INFO - root - running container entrypoint\u001b[0m\n",
      "\u001b[31m2018-10-09 10:58:03,308 INFO - root - starting train task\u001b[0m\n",
      "\u001b[31m2018-10-09 10:58:03,328 INFO - container_support.training - Training starting\u001b[0m\n",
      "\u001b[31m2018-10-09 10:58:04,476 WARNING - mxnet_container.train - #033[1;33mThis required structure for training scripts will be deprecated with the next major release of MXNet images. The train() function will no longer be required; instead the training script must be able to be run as a standalone script. For more information, see https://github.com/aws/sagemaker-python-sdk/tree/master/src/sagemaker/mxnet#updating-your-mxnet-training-script.#033[1;0m\u001b[0m\n",
      "\u001b[31m2018-10-09 10:58:04,494 INFO - mxnet_container.train - MXNetTrainingEnvironment: {'_ps_verbose': 0, 'user_script_name': 'sagemaker_entry.py', '_scheduler_ip': '10.32.0.4', 'base_dir': '/opt/ml', 'enable_cloudwatch_metrics': False, 'user_script_archive': 's3://sagemaker-us-east-2-324346001917/sagemaker-mxnet-2018-10-09-10-50-59-963/source/sourcedir.tar.gz', 'sagemaker_region': 'us-east-2', 'user_requirements_file': None, 'output_data_dir': '/opt/ml/output/data/', 'channels': {'Train': {'TrainingInputMode': 'File', 'RecordWrapperType': 'None', 'S3DistributionType': 'FullyReplicated'}}, 'code_dir': '/opt/ml/code', '_ps_port': 8000, 'hyperparameters': {'sagemaker_region': 'us-east-2', 'sagemaker_job_name': 'sagemaker-mxnet-2018-10-09-10-50-59-963', 'sagemaker_submit_directory': 's3://sagemaker-us-east-2-324346001917/sagemaker-mxnet-2018-10-09-10-50-59-963/source/sourcedir.tar.gz', 'sagemaker_container_log_level': 20, 'sagemaker_program': 'sagemaker_entry.py', 'learning_rate': 0.1, 'sagemaker_enable_cloudwatch_metrics': False}, 'container_log_level': 20, 'hosts': ['algo-1'], '_scheduler_host': 'algo-1', 'current_host': 'algo-1', 'model_dir': '/opt/ml/model', 'channel_dirs': {'Train': '/opt/ml/input/data/Train'}, 'output_dir': '/opt/ml/output', 'available_gpus': 1, 'input_config_dir': '/opt/ml/input/config', 'available_cpus': 8, 'resource_config': {'current_host': 'algo-1', 'hosts': ['algo-1'], 'network_interface_name': 'ethwe'}, 'input_dir': '/opt/ml/input', 'job_name': 'sagemaker-mxnet-2018-10-09-10-50-59-963'}\u001b[0m\n",
      "\u001b[31mDownloading s3://sagemaker-us-east-2-324346001917/sagemaker-mxnet-2018-10-09-10-50-59-963/source/sourcedir.tar.gz to /tmp/script.tar.gz\u001b[0m\n",
      "\u001b[31m2018-10-09 10:58:37,675 INFO - mxnet_container.train - Starting distributed training task\u001b[0m\n",
      "\u001b[31m2018-10-09 10:58:37,869 ERROR - container_support.training - uncaught exception during training: cannot import name 'geometry'\u001b[0m\n",
      "\u001b[31mIt seems that scikit-image has not been built correctly.\n",
      "\u001b[0m\n",
      "\u001b[31mYour install of scikit-image appears to be broken.\u001b[0m\n",
      "\u001b[31mTry re-installing the package following the instructions at:\u001b[0m\n",
      "\u001b[31mhttp://scikit-image.org/docs/stable/install.html \u001b[0m\n",
      "\u001b[31mTraceback (most recent call last):\n",
      "  File \"/opt/ml/code/skimage/__init__.py\", line 153, in <module>\n",
      "    from ._shared import geometry\u001b[0m\n",
      "\u001b[31mImportError: cannot import name 'geometry'\n",
      "\u001b[0m\n",
      "\u001b[31mDuring handling of the above exception, another exception occurred:\n",
      "\u001b[0m\n",
      "\u001b[31mTraceback (most recent call last):\n",
      "  File \"/usr/local/lib/python3.5/dist-packages/container_support/training.py\", line 36, in start\n",
      "    fw.train()\n",
      "  File \"/usr/local/lib/python3.5/dist-packages/mxnet_container/train.py\", line 189, in train\n",
      "    user_module = mxnet_env.import_user_module()\n",
      "  File \"/usr/local/lib/python3.5/dist-packages/container_support/environment.py\", line 101, in import_user_module\n",
      "    user_module = importlib.import_module(script)\n",
      "  File \"/usr/lib/python3.5/importlib/__init__.py\", line 126, in import_module\n",
      "    return _bootstrap._gcd_import(name[level:], package, level)\n",
      "  File \"<frozen importlib._bootstrap>\", line 986, in _gcd_import\n",
      "  File \"<frozen importlib._bootstrap>\", line 969, in _find_and_load\n",
      "  File \"<frozen importlib._bootstrap>\", line 958, in _find_and_load_unlocked\n",
      "  File \"<frozen importlib._bootstrap>\", line 673, in _load_unlocked\n",
      "  File \"<frozen importlib._bootstrap_external>\", line 665, in exec_module\n",
      "  File \"<frozen importlib._bootstrap>\", line 222, in _call_with_frames_removed\n",
      "  File \"/opt/ml/code/sagemaker_entry.py\", line 4, in <module>\n",
      "    from handwriting_recognition import run_main\n",
      "  File \"/opt/ml/code/handwriting_recognition.py\", line 14, in <module>\n",
      "    from skimage import transform as skimage_tf\n",
      "  File \"/opt/ml/code/skimage/__init__.py\", line 156, in <module>\n",
      "    _raise_build_error(e)\n",
      "  File \"/opt/ml/code/skimage/__init__.py\", line 137, in _raise_build_error\n",
      "    %s\"\"\" % (e, msg))\u001b[0m\n",
      "\u001b[31mImportError: cannot import name 'geometry'\u001b[0m\n",
      "\u001b[31mIt seems that scikit-image has not been built correctly.\n",
      "\u001b[0m\n",
      "\u001b[31mYour install of scikit-image appears to be broken.\u001b[0m\n",
      "\u001b[31mTry re-installing the package following the instructions at:\u001b[0m\n",
      "\u001b[31mhttp://scikit-image.org/docs/stable/install.html \n",
      "\n",
      "\u001b[0m\n",
      "\n"
     ]
    },
    {
     "ename": "ValueError",
     "evalue": "Error training sagemaker-mxnet-2018-10-09-10-50-59-963: Failed Reason: AlgorithmError: uncaught exception during training: cannot import name 'geometry'\nIt seems that scikit-image has not been built correctly.\n\nYour install of scikit-image appears to be broken.\nTry re-installing the package following the instructions at:\nhttp://scikit-image.org/docs/stable/install.html \nTraceback (most recent call last):\n  File \"/opt/ml/code/skimage/__init__.py\", line 153, in <module>\n    from ._shared import geometry\nImportError: cannot import name 'geometry'\n\nDuring handling of the above exception, another exception occurred:\n\nTraceback (most recent call last):\n  File \"/usr/local/lib/python3.5/dist-packages/container_support/training.py\", line 36, in start\n    fw.train()\n  File \"/usr/local/lib/python3.5/dist-packages/mxnet_container/train.py\", line 189, in train\n    user_module = mxnet_env.import_user_module()\n  File \"/usr/local/lib/python3.5/dist-packages/container_support/environment.py\", line 101, in import_user_module\n    user_module = importlib.import_module(script)\n  File \"/usr/lib/pytho",
     "output_type": "error",
     "traceback": [
      "\u001b[0;31m---------------------------------------------------------------------------\u001b[0m",
      "\u001b[0;31mValueError\u001b[0m                                Traceback (most recent call last)",
      "\u001b[0;32m<timed exec>\u001b[0m in \u001b[0;36m<module>\u001b[0;34m()\u001b[0m\n",
      "\u001b[0;32m~/anaconda3/envs/mxnet_p36/lib/python3.6/site-packages/sagemaker/estimator.py\u001b[0m in \u001b[0;36mfit\u001b[0;34m(self, inputs, wait, logs, job_name)\u001b[0m\n\u001b[1;32m    191\u001b[0m         \u001b[0mself\u001b[0m\u001b[0;34m.\u001b[0m\u001b[0mlatest_training_job\u001b[0m \u001b[0;34m=\u001b[0m \u001b[0m_TrainingJob\u001b[0m\u001b[0;34m.\u001b[0m\u001b[0mstart_new\u001b[0m\u001b[0;34m(\u001b[0m\u001b[0mself\u001b[0m\u001b[0;34m,\u001b[0m \u001b[0minputs\u001b[0m\u001b[0;34m)\u001b[0m\u001b[0;34m\u001b[0m\u001b[0m\n\u001b[1;32m    192\u001b[0m         \u001b[0;32mif\u001b[0m \u001b[0mwait\u001b[0m\u001b[0;34m:\u001b[0m\u001b[0;34m\u001b[0m\u001b[0m\n\u001b[0;32m--> 193\u001b[0;31m             \u001b[0mself\u001b[0m\u001b[0;34m.\u001b[0m\u001b[0mlatest_training_job\u001b[0m\u001b[0;34m.\u001b[0m\u001b[0mwait\u001b[0m\u001b[0;34m(\u001b[0m\u001b[0mlogs\u001b[0m\u001b[0;34m=\u001b[0m\u001b[0mlogs\u001b[0m\u001b[0;34m)\u001b[0m\u001b[0;34m\u001b[0m\u001b[0m\n\u001b[0m\u001b[1;32m    194\u001b[0m \u001b[0;34m\u001b[0m\u001b[0m\n\u001b[1;32m    195\u001b[0m     \u001b[0;34m@\u001b[0m\u001b[0mclassmethod\u001b[0m\u001b[0;34m\u001b[0m\u001b[0m\n",
      "\u001b[0;32m~/anaconda3/envs/mxnet_p36/lib/python3.6/site-packages/sagemaker/estimator.py\u001b[0m in \u001b[0;36mwait\u001b[0;34m(self, logs)\u001b[0m\n\u001b[1;32m    419\u001b[0m     \u001b[0;32mdef\u001b[0m \u001b[0mwait\u001b[0m\u001b[0;34m(\u001b[0m\u001b[0mself\u001b[0m\u001b[0;34m,\u001b[0m \u001b[0mlogs\u001b[0m\u001b[0;34m=\u001b[0m\u001b[0;32mTrue\u001b[0m\u001b[0;34m)\u001b[0m\u001b[0;34m:\u001b[0m\u001b[0;34m\u001b[0m\u001b[0m\n\u001b[1;32m    420\u001b[0m         \u001b[0;32mif\u001b[0m \u001b[0mlogs\u001b[0m\u001b[0;34m:\u001b[0m\u001b[0;34m\u001b[0m\u001b[0m\n\u001b[0;32m--> 421\u001b[0;31m             \u001b[0mself\u001b[0m\u001b[0;34m.\u001b[0m\u001b[0msagemaker_session\u001b[0m\u001b[0;34m.\u001b[0m\u001b[0mlogs_for_job\u001b[0m\u001b[0;34m(\u001b[0m\u001b[0mself\u001b[0m\u001b[0;34m.\u001b[0m\u001b[0mjob_name\u001b[0m\u001b[0;34m,\u001b[0m \u001b[0mwait\u001b[0m\u001b[0;34m=\u001b[0m\u001b[0;32mTrue\u001b[0m\u001b[0;34m)\u001b[0m\u001b[0;34m\u001b[0m\u001b[0m\n\u001b[0m\u001b[1;32m    422\u001b[0m         \u001b[0;32melse\u001b[0m\u001b[0;34m:\u001b[0m\u001b[0;34m\u001b[0m\u001b[0m\n\u001b[1;32m    423\u001b[0m             \u001b[0mself\u001b[0m\u001b[0;34m.\u001b[0m\u001b[0msagemaker_session\u001b[0m\u001b[0;34m.\u001b[0m\u001b[0mwait_for_job\u001b[0m\u001b[0;34m(\u001b[0m\u001b[0mself\u001b[0m\u001b[0;34m.\u001b[0m\u001b[0mjob_name\u001b[0m\u001b[0;34m)\u001b[0m\u001b[0;34m\u001b[0m\u001b[0m\n",
      "\u001b[0;32m~/anaconda3/envs/mxnet_p36/lib/python3.6/site-packages/sagemaker/session.py\u001b[0m in \u001b[0;36mlogs_for_job\u001b[0;34m(self, job_name, wait, poll)\u001b[0m\n\u001b[1;32m    907\u001b[0m \u001b[0;34m\u001b[0m\u001b[0m\n\u001b[1;32m    908\u001b[0m         \u001b[0;32mif\u001b[0m \u001b[0mwait\u001b[0m\u001b[0;34m:\u001b[0m\u001b[0;34m\u001b[0m\u001b[0m\n\u001b[0;32m--> 909\u001b[0;31m             \u001b[0mself\u001b[0m\u001b[0;34m.\u001b[0m\u001b[0m_check_job_status\u001b[0m\u001b[0;34m(\u001b[0m\u001b[0mjob_name\u001b[0m\u001b[0;34m,\u001b[0m \u001b[0mdescription\u001b[0m\u001b[0;34m,\u001b[0m \u001b[0;34m'TrainingJobStatus'\u001b[0m\u001b[0;34m)\u001b[0m\u001b[0;34m\u001b[0m\u001b[0m\n\u001b[0m\u001b[1;32m    910\u001b[0m             \u001b[0;32mif\u001b[0m \u001b[0mdot\u001b[0m\u001b[0;34m:\u001b[0m\u001b[0;34m\u001b[0m\u001b[0m\n\u001b[1;32m    911\u001b[0m                 \u001b[0mprint\u001b[0m\u001b[0;34m(\u001b[0m\u001b[0;34m)\u001b[0m\u001b[0;34m\u001b[0m\u001b[0m\n",
      "\u001b[0;32m~/anaconda3/envs/mxnet_p36/lib/python3.6/site-packages/sagemaker/session.py\u001b[0m in \u001b[0;36m_check_job_status\u001b[0;34m(self, job, desc, status_key_name)\u001b[0m\n\u001b[1;32m    626\u001b[0m         \u001b[0;32mif\u001b[0m \u001b[0mstatus\u001b[0m \u001b[0;34m!=\u001b[0m \u001b[0;34m'Completed'\u001b[0m \u001b[0;32mand\u001b[0m \u001b[0mstatus\u001b[0m \u001b[0;34m!=\u001b[0m \u001b[0;34m'Stopped'\u001b[0m\u001b[0;34m:\u001b[0m\u001b[0;34m\u001b[0m\u001b[0m\n\u001b[1;32m    627\u001b[0m             \u001b[0mreason\u001b[0m \u001b[0;34m=\u001b[0m \u001b[0mdesc\u001b[0m\u001b[0;34m.\u001b[0m\u001b[0mget\u001b[0m\u001b[0;34m(\u001b[0m\u001b[0;34m'FailureReason'\u001b[0m\u001b[0;34m,\u001b[0m \u001b[0;34m'(No reason provided)'\u001b[0m\u001b[0;34m)\u001b[0m\u001b[0;34m\u001b[0m\u001b[0m\n\u001b[0;32m--> 628\u001b[0;31m             \u001b[0;32mraise\u001b[0m \u001b[0mValueError\u001b[0m\u001b[0;34m(\u001b[0m\u001b[0;34m'Error training {}: {} Reason: {}'\u001b[0m\u001b[0;34m.\u001b[0m\u001b[0mformat\u001b[0m\u001b[0;34m(\u001b[0m\u001b[0mjob\u001b[0m\u001b[0;34m,\u001b[0m \u001b[0mstatus\u001b[0m\u001b[0;34m,\u001b[0m \u001b[0mreason\u001b[0m\u001b[0;34m)\u001b[0m\u001b[0;34m)\u001b[0m\u001b[0;34m\u001b[0m\u001b[0m\n\u001b[0m\u001b[1;32m    629\u001b[0m \u001b[0;34m\u001b[0m\u001b[0m\n\u001b[1;32m    630\u001b[0m     \u001b[0;32mdef\u001b[0m \u001b[0mwait_for_endpoint\u001b[0m\u001b[0;34m(\u001b[0m\u001b[0mself\u001b[0m\u001b[0;34m,\u001b[0m \u001b[0mendpoint\u001b[0m\u001b[0;34m,\u001b[0m \u001b[0mpoll\u001b[0m\u001b[0;34m=\u001b[0m\u001b[0;36m5\u001b[0m\u001b[0;34m)\u001b[0m\u001b[0;34m:\u001b[0m\u001b[0;34m\u001b[0m\u001b[0m\n",
      "\u001b[0;31mValueError\u001b[0m: Error training sagemaker-mxnet-2018-10-09-10-50-59-963: Failed Reason: AlgorithmError: uncaught exception during training: cannot import name 'geometry'\nIt seems that scikit-image has not been built correctly.\n\nYour install of scikit-image appears to be broken.\nTry re-installing the package following the instructions at:\nhttp://scikit-image.org/docs/stable/install.html \nTraceback (most recent call last):\n  File \"/opt/ml/code/skimage/__init__.py\", line 153, in <module>\n    from ._shared import geometry\nImportError: cannot import name 'geometry'\n\nDuring handling of the above exception, another exception occurred:\n\nTraceback (most recent call last):\n  File \"/usr/local/lib/python3.5/dist-packages/container_support/training.py\", line 36, in start\n    fw.train()\n  File \"/usr/local/lib/python3.5/dist-packages/mxnet_container/train.py\", line 189, in train\n    user_module = mxnet_env.import_user_module()\n  File \"/usr/local/lib/python3.5/dist-packages/container_support/environment.py\", line 101, in import_user_module\n    user_module = importlib.import_module(script)\n  File \"/usr/lib/pytho"
     ]
    }
   ],
   "source": [
    "%%time\n",
    "import boto3\n",
    "\n",
    "region = boto3.Session().region_name\n",
    "\n",
    "##This uses the internal IAM dataset... TODO fix.. Assigning a dummy file for now\n",
    "mnist_estimator.fit({'Train':'s3://{}/rt-data.txt'.format(bucket)})"
   ]
  }
 ],
 "metadata": {
  "kernelspec": {
   "display_name": "conda_mxnet_p36",
   "language": "python",
   "name": "conda_mxnet_p36"
  },
  "language_info": {
   "codemirror_mode": {
    "name": "ipython",
    "version": 3
   },
   "file_extension": ".py",
   "mimetype": "text/x-python",
   "name": "python",
   "nbconvert_exporter": "python",
   "pygments_lexer": "ipython3",
   "version": "3.6.5"
  }
 },
 "nbformat": 4,
 "nbformat_minor": 1
}
